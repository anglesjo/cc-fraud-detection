{
 "cells": [
  {
   "cell_type": "code",
   "execution_count": 1,
   "metadata": {
    "colab": {
     "base_uri": "https://localhost:8080/",
     "height": 122
    },
    "colab_type": "code",
    "id": "M-mpF5J7tfZO",
    "outputId": "eb8be261-3e76-451c-dff4-6ec388cc4ed1",
    "scrolled": true
   },
   "outputs": [],
   "source": [
    "#from google.colab import drive\n",
    "#drive.mount('/content/drive')"
   ]
  },
  {
   "cell_type": "code",
   "execution_count": 2,
   "metadata": {
    "colab": {},
    "colab_type": "code",
    "id": "wwLlEvV8mjA0"
   },
   "outputs": [],
   "source": [
    "import pandas as pd\n",
    "import numpy as np\n",
    "import matplotlib.pyplot as plt\n",
    "import seaborn as sns\n",
    "from sklearn.preprocessing import scale\n",
    "from sklearn.linear_model import LogisticRegression\n",
    "from sklearn import svm\n",
    "from sklearn.model_selection import train_test_split\n",
    "from sklearn.metrics import confusion_matrix, classification_report\n",
    "import random\n",
    "\n",
    "sns.set(style=\"darkgrid\")\n"
   ]
  },
  {
   "cell_type": "code",
   "execution_count": 3,
   "metadata": {
    "colab": {},
    "colab_type": "code",
    "id": "SxeMDftNEURI"
   },
   "outputs": [],
   "source": [
    "# Function to plot confusion matrix\n",
    "def plot_confusion_matrix(y_test, pred):\n",
    "    \n",
    "    y_test_legit = y_test.value_counts()[0]\n",
    "    y_test_fraud = y_test.value_counts()[1]\n",
    "    \n",
    "    cfn_matrix = confusion_matrix(y_test, pred)\n",
    "\n",
    "    fig = plt.figure(figsize=(10,5))\n",
    "    ax = sns.heatmap(cfn_matrix,cmap='coolwarm_r',linewidths=0.5,annot=True)\n",
    "    plt.title('Confusion Matrix')\n",
    "    plt.ylabel('Real Classes')\n",
    "    plt.xlabel('Predicted Classes')\n",
    "\n",
    "    plt.show()\n",
    "    \n",
    "    print('---Classification Report---')\n",
    "    print(classification_report(y_test,pred))"
   ]
  },
  {
   "cell_type": "code",
   "execution_count": 4,
   "metadata": {
    "colab": {
     "base_uri": "https://localhost:8080/",
     "height": 224
    },
    "colab_type": "code",
    "id": "xf9Ud8yHmwRv",
    "outputId": "65de0a66-9975-411d-b8fd-46f10922a183"
   },
   "outputs": [
    {
     "data": {
      "text/html": [
       "<div>\n",
       "<style scoped>\n",
       "    .dataframe tbody tr th:only-of-type {\n",
       "        vertical-align: middle;\n",
       "    }\n",
       "\n",
       "    .dataframe tbody tr th {\n",
       "        vertical-align: top;\n",
       "    }\n",
       "\n",
       "    .dataframe thead th {\n",
       "        text-align: right;\n",
       "    }\n",
       "</style>\n",
       "<table border=\"1\" class=\"dataframe\">\n",
       "  <thead>\n",
       "    <tr style=\"text-align: right;\">\n",
       "      <th></th>\n",
       "      <th>Time</th>\n",
       "      <th>V1</th>\n",
       "      <th>V2</th>\n",
       "      <th>V3</th>\n",
       "      <th>V4</th>\n",
       "      <th>V5</th>\n",
       "      <th>V6</th>\n",
       "      <th>V7</th>\n",
       "      <th>V8</th>\n",
       "      <th>V9</th>\n",
       "      <th>...</th>\n",
       "      <th>V21</th>\n",
       "      <th>V22</th>\n",
       "      <th>V23</th>\n",
       "      <th>V24</th>\n",
       "      <th>V25</th>\n",
       "      <th>V26</th>\n",
       "      <th>V27</th>\n",
       "      <th>V28</th>\n",
       "      <th>Amount</th>\n",
       "      <th>Class</th>\n",
       "    </tr>\n",
       "  </thead>\n",
       "  <tbody>\n",
       "    <tr>\n",
       "      <th>0</th>\n",
       "      <td>164703.0</td>\n",
       "      <td>2.020237</td>\n",
       "      <td>-0.243044</td>\n",
       "      <td>-0.483283</td>\n",
       "      <td>0.265925</td>\n",
       "      <td>-0.374214</td>\n",
       "      <td>-0.336445</td>\n",
       "      <td>-0.495288</td>\n",
       "      <td>-0.009989</td>\n",
       "      <td>1.162893</td>\n",
       "      <td>...</td>\n",
       "      <td>-0.153927</td>\n",
       "      <td>-0.352640</td>\n",
       "      <td>0.396445</td>\n",
       "      <td>0.617117</td>\n",
       "      <td>-0.405524</td>\n",
       "      <td>-0.643912</td>\n",
       "      <td>0.029467</td>\n",
       "      <td>-0.024899</td>\n",
       "      <td>1.18</td>\n",
       "      <td>0</td>\n",
       "    </tr>\n",
       "    <tr>\n",
       "      <th>1</th>\n",
       "      <td>127580.0</td>\n",
       "      <td>-0.620611</td>\n",
       "      <td>0.194223</td>\n",
       "      <td>-0.577333</td>\n",
       "      <td>-2.535395</td>\n",
       "      <td>1.178285</td>\n",
       "      <td>5.154054</td>\n",
       "      <td>-3.403006</td>\n",
       "      <td>-4.220080</td>\n",
       "      <td>-0.782919</td>\n",
       "      <td>...</td>\n",
       "      <td>-2.204771</td>\n",
       "      <td>1.821735</td>\n",
       "      <td>0.496156</td>\n",
       "      <td>0.679349</td>\n",
       "      <td>-1.222257</td>\n",
       "      <td>-0.326171</td>\n",
       "      <td>-0.001889</td>\n",
       "      <td>-0.041871</td>\n",
       "      <td>20.88</td>\n",
       "      <td>0</td>\n",
       "    </tr>\n",
       "    <tr>\n",
       "      <th>2</th>\n",
       "      <td>19991.0</td>\n",
       "      <td>-0.436269</td>\n",
       "      <td>1.888773</td>\n",
       "      <td>-2.887259</td>\n",
       "      <td>1.945192</td>\n",
       "      <td>0.434991</td>\n",
       "      <td>-1.662936</td>\n",
       "      <td>0.244851</td>\n",
       "      <td>0.520208</td>\n",
       "      <td>0.955806</td>\n",
       "      <td>...</td>\n",
       "      <td>-0.297703</td>\n",
       "      <td>-0.590753</td>\n",
       "      <td>0.083831</td>\n",
       "      <td>-0.530596</td>\n",
       "      <td>-0.365911</td>\n",
       "      <td>-0.397159</td>\n",
       "      <td>0.191195</td>\n",
       "      <td>-0.196675</td>\n",
       "      <td>89.99</td>\n",
       "      <td>0</td>\n",
       "    </tr>\n",
       "    <tr>\n",
       "      <th>3</th>\n",
       "      <td>69221.0</td>\n",
       "      <td>-0.936472</td>\n",
       "      <td>-0.741492</td>\n",
       "      <td>1.158675</td>\n",
       "      <td>-1.153602</td>\n",
       "      <td>0.222437</td>\n",
       "      <td>-0.739389</td>\n",
       "      <td>-0.082655</td>\n",
       "      <td>0.188970</td>\n",
       "      <td>-1.606748</td>\n",
       "      <td>...</td>\n",
       "      <td>-0.205064</td>\n",
       "      <td>-0.556905</td>\n",
       "      <td>0.185990</td>\n",
       "      <td>-0.014143</td>\n",
       "      <td>-0.337723</td>\n",
       "      <td>0.980770</td>\n",
       "      <td>-0.023966</td>\n",
       "      <td>0.100356</td>\n",
       "      <td>60.00</td>\n",
       "      <td>0</td>\n",
       "    </tr>\n",
       "    <tr>\n",
       "      <th>4</th>\n",
       "      <td>156632.0</td>\n",
       "      <td>-1.064986</td>\n",
       "      <td>1.976888</td>\n",
       "      <td>-1.465989</td>\n",
       "      <td>-0.091098</td>\n",
       "      <td>-0.205300</td>\n",
       "      <td>-0.200311</td>\n",
       "      <td>-1.917819</td>\n",
       "      <td>-4.818336</td>\n",
       "      <td>-0.733667</td>\n",
       "      <td>...</td>\n",
       "      <td>-2.129326</td>\n",
       "      <td>1.779171</td>\n",
       "      <td>0.325031</td>\n",
       "      <td>-0.081215</td>\n",
       "      <td>-0.589771</td>\n",
       "      <td>-0.205559</td>\n",
       "      <td>-0.089812</td>\n",
       "      <td>0.098544</td>\n",
       "      <td>2.49</td>\n",
       "      <td>0</td>\n",
       "    </tr>\n",
       "  </tbody>\n",
       "</table>\n",
       "<p>5 rows × 31 columns</p>\n",
       "</div>"
      ],
      "text/plain": [
       "       Time        V1        V2        V3        V4        V5        V6  \\\n",
       "0  164703.0  2.020237 -0.243044 -0.483283  0.265925 -0.374214 -0.336445   \n",
       "1  127580.0 -0.620611  0.194223 -0.577333 -2.535395  1.178285  5.154054   \n",
       "2   19991.0 -0.436269  1.888773 -2.887259  1.945192  0.434991 -1.662936   \n",
       "3   69221.0 -0.936472 -0.741492  1.158675 -1.153602  0.222437 -0.739389   \n",
       "4  156632.0 -1.064986  1.976888 -1.465989 -0.091098 -0.205300 -0.200311   \n",
       "\n",
       "         V7        V8        V9  ...         V21       V22       V23  \\\n",
       "0 -0.495288 -0.009989  1.162893  ...   -0.153927 -0.352640  0.396445   \n",
       "1 -3.403006 -4.220080 -0.782919  ...   -2.204771  1.821735  0.496156   \n",
       "2  0.244851  0.520208  0.955806  ...   -0.297703 -0.590753  0.083831   \n",
       "3 -0.082655  0.188970 -1.606748  ...   -0.205064 -0.556905  0.185990   \n",
       "4 -1.917819 -4.818336 -0.733667  ...   -2.129326  1.779171  0.325031   \n",
       "\n",
       "        V24       V25       V26       V27       V28  Amount  Class  \n",
       "0  0.617117 -0.405524 -0.643912  0.029467 -0.024899    1.18      0  \n",
       "1  0.679349 -1.222257 -0.326171 -0.001889 -0.041871   20.88      0  \n",
       "2 -0.530596 -0.365911 -0.397159  0.191195 -0.196675   89.99      0  \n",
       "3 -0.014143 -0.337723  0.980770 -0.023966  0.100356   60.00      0  \n",
       "4 -0.081215 -0.589771 -0.205559 -0.089812  0.098544    2.49      0  \n",
       "\n",
       "[5 rows x 31 columns]"
      ]
     },
     "execution_count": 4,
     "metadata": {},
     "output_type": "execute_result"
    }
   ],
   "source": [
    "df = pd.read_csv('data/creditcard.csv')\n",
    "df = df.sample(frac=1).reset_index(drop=True)\n",
    "df.head()"
   ]
  },
  {
   "cell_type": "code",
   "execution_count": 5,
   "metadata": {
    "colab": {
     "base_uri": "https://localhost:8080/",
     "height": 34
    },
    "colab_type": "code",
    "id": "D-zhz-gv4cIZ",
    "outputId": "7e78a51b-3bec-4fb0-9bca-b92d6e69f924"
   },
   "outputs": [
    {
     "data": {
      "text/plain": [
       "(284807, 31)"
      ]
     },
     "execution_count": 5,
     "metadata": {},
     "output_type": "execute_result"
    }
   ],
   "source": [
    "df.shape"
   ]
  },
  {
   "cell_type": "code",
   "execution_count": 6,
   "metadata": {
    "colab": {
     "base_uri": "https://localhost:8080/",
     "height": 525
    },
    "colab_type": "code",
    "id": "mT3dgDncKoLL",
    "outputId": "abb27d00-2b17-4a8c-b18a-ec3ed20b7374"
   },
   "outputs": [
    {
     "data": {
      "text/plain": [
       "[None]"
      ]
     },
     "execution_count": 6,
     "metadata": {},
     "output_type": "execute_result"
    },
    {
     "data": {
      "image/png": "[encoded data removed]",
      "text/plain": [
       "<matplotlib.figure.Figure at 0x1a0e6a9470>"
      ]
     },
     "metadata": {},
     "output_type": "display_data"
    }
   ],
   "source": [
    "plt.figure(figsize=(12,8))\n",
    "ax = sns.boxplot(x=\"Class\", y=\"Amount\", hue=\"Class\", data=df)\n",
    "ax.set(yscale=\"log\")"
   ]
  },
  {
   "cell_type": "code",
   "execution_count": 7,
   "metadata": {
    "colab": {
     "base_uri": "https://localhost:8080/",
     "height": 51
    },
    "colab_type": "code",
    "id": "ynuU64ez-rMt",
    "outputId": "6f1355af-63c3-42c0-8199-1a439e1eeafe"
   },
   "outputs": [
    {
     "name": "stdout",
     "output_type": "stream",
     "text": [
      "Fraud Cases:  492\n",
      "Non-Fraud Cases:  284315\n"
     ]
    }
   ],
   "source": [
    "fraud = df.loc[df['Class'] == 1]\n",
    "non_fraud = df.loc[df['Class'] == 0]\n",
    "\n",
    "print('Fraud Cases: ', len(fraud))\n",
    "print('Non-Fraud Cases: ', len(non_fraud))"
   ]
  },
  {
   "cell_type": "code",
   "execution_count": 8,
   "metadata": {
    "colab": {},
    "colab_type": "code",
    "id": "1ZpF4Rcw-6bD"
   },
   "outputs": [],
   "source": [
    "X = df.iloc[:, :-1]\n",
    "y = df['Class']\n",
    "\n",
    "X_train, X_test, y_train, y_test = train_test_split(X, y, test_size=0.3)"
   ]
  },
  {
   "cell_type": "code",
   "execution_count": 9,
   "metadata": {
    "colab": {
     "base_uri": "https://localhost:8080/",
     "height": 34
    },
    "colab_type": "code",
    "id": "ZEszQNIR_FJJ",
    "outputId": "a5221685-c46f-4ef9-be1a-7d434e9bd60d"
   },
   "outputs": [
    {
     "data": {
      "text/plain": [
       "(199364, 30)"
      ]
     },
     "execution_count": 9,
     "metadata": {},
     "output_type": "execute_result"
    }
   ],
   "source": [
    "X_train.shape"
   ]
  },
  {
   "cell_type": "markdown",
   "metadata": {
    "colab_type": "text",
    "id": "IhQwNOD7O-vI"
   },
   "source": [
    "### **Logistic Regression**"
   ]
  },
  {
   "cell_type": "code",
   "execution_count": 10,
   "metadata": {
    "colab": {
     "base_uri": "https://localhost:8080/",
     "height": 88
    },
    "colab_type": "code",
    "id": "VUNgJaL0_IoP",
    "outputId": "cf21e09c-43ad-4f1c-fd32-d291692b19d9"
   },
   "outputs": [
    {
     "name": "stdout",
     "output_type": "stream",
     "text": [
      "Score:  0.9990754069964772\n"
     ]
    }
   ],
   "source": [
    "log_reg = LogisticRegression(C=1e5)\n",
    "log_reg.fit(X_train, y_train)\n",
    "\n",
    "print('Score: ', log_reg.score(X_test, y_test))"
   ]
  },
  {
   "cell_type": "code",
   "execution_count": 11,
   "metadata": {
    "colab": {
     "base_uri": "https://localhost:8080/",
     "height": 525
    },
    "colab_type": "code",
    "id": "sPf78zwG_bW7",
    "outputId": "16f5d4b1-5f40-4a10-c415-f2594add5193"
   },
   "outputs": [
    {
     "data": {
      "image/png": "[encoded data removed]",
      "text/plain": [
       "<matplotlib.figure.Figure at 0x105b55e80>"
      ]
     },
     "metadata": {},
     "output_type": "display_data"
    },
    {
     "name": "stdout",
     "output_type": "stream",
     "text": [
      "---Classification Report---\n",
      "             precision    recall  f1-score   support\n",
      "\n",
      "          0       1.00      1.00      1.00     85294\n",
      "          1       0.85      0.57      0.68       149\n",
      "\n",
      "avg / total       1.00      1.00      1.00     85443\n",
      "\n"
     ]
    }
   ],
   "source": [
    "y_pred = log_reg.predict(X_test)\n",
    "plot_confusion_matrix(y_test, y_pred)"
   ]
  },
  {
   "cell_type": "markdown",
   "metadata": {
    "colab_type": "text",
    "id": "_Jlq6IiHPTpE"
   },
   "source": [
    "### **Support Vector Machine**"
   ]
  },
  {
   "cell_type": "code",
   "execution_count": 12,
   "metadata": {
    "colab": {
     "base_uri": "https://localhost:8080/",
     "height": 34
    },
    "colab_type": "code",
    "id": "WRVb123LPeBu",
    "outputId": "946fd76f-bb1e-406f-f787-00394a29ce5d"
   },
   "outputs": [
    {
     "name": "stdout",
     "output_type": "stream",
     "text": [
      "Score:  0.9988413328183702\n"
     ]
    }
   ],
   "source": [
    "lsvm = svm.LinearSVC(C=1.0, dual=False)\n",
    "lsvm.fit(X_train, y_train)\n",
    "\n",
    "print('Score: ', lsvm.score(X_test, y_test))"
   ]
  },
  {
   "cell_type": "code",
   "execution_count": 13,
   "metadata": {
    "colab": {
     "base_uri": "https://localhost:8080/",
     "height": 525
    },
    "colab_type": "code",
    "id": "T7b7-VDfQp-P",
    "outputId": "f44c068c-1c88-4d96-f6e8-22302009c0d4"
   },
   "outputs": [
    {
     "data": {
      "image/png": "[encoded data removed]",
      "text/plain": [
       "<matplotlib.figure.Figure at 0x1a0e6a9748>"
      ]
     },
     "metadata": {},
     "output_type": "display_data"
    },
    {
     "name": "stdout",
     "output_type": "stream",
     "text": [
      "---Classification Report---\n",
      "             precision    recall  f1-score   support\n",
      "\n",
      "          0       1.00      1.00      1.00     85294\n",
      "          1       0.79      0.46      0.58       149\n",
      "\n",
      "avg / total       1.00      1.00      1.00     85443\n",
      "\n"
     ]
    }
   ],
   "source": [
    "y_pred = lsvm.predict(X_test)\n",
    "plot_confusion_matrix(y_test, y_pred)"
   ]
  },
  {
   "cell_type": "code",
   "execution_count": null,
   "metadata": {},
   "outputs": [],
   "source": []
  }
 ],
 "metadata": {
  "colab": {
   "collapsed_sections": [],
   "name": "credit-card-fraud-detection.ipynb",
   "provenance": []
  },
  "kernelspec": {
   "display_name": "Python 3",
   "language": "python",
   "name": "python3"
  },
  "language_info": {
   "codemirror_mode": {
    "name": "ipython",
    "version": 3
   },
   "file_extension": ".py",
   "mimetype": "text/x-python",
   "name": "python",
   "nbconvert_exporter": "python",
   "pygments_lexer": "ipython3",
   "version": "3.6.4"
  }
 },
 "nbformat": 4,
 "nbformat_minor": 1
}
